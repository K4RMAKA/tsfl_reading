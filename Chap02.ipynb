{
 "cells": [
  {
   "cell_type": "code",
   "execution_count": 1,
   "metadata": {
    "collapsed": true
   },
   "outputs": [],
   "source": [
    "import tensorflow as tf\n",
    "import numpy as np\n",
    "sess = tf.Session()"
   ]
  },
  {
   "cell_type": "markdown",
   "metadata": {},
   "source": [
    "### A really simple example of computational graph"
   ]
  },
  {
   "cell_type": "code",
   "execution_count": 4,
   "metadata": {},
   "outputs": [
    {
     "name": "stdout",
     "output_type": "stream",
     "text": [
      "3.0\n",
      "9.0\n",
      "15.0\n",
      "21.0\n",
      "27.0\n"
     ]
    }
   ],
   "source": [
    "x_vals = np.array([1.,3,5,7,9])\n",
    "x_data = tf.placeholder(tf.float32)\n",
    "constant3 = tf.constant(3.)\n",
    "m_product = tf.multiply(x_data,constant3)\n",
    "for x_val in x_vals:\n",
    "    print(sess.run(m_product,feed_dict={x_data:x_val}))\n",
    "#老版本中的乘法是mul，最近的变成multiply了"
   ]
  },
  {
   "cell_type": "code",
   "execution_count": 9,
   "metadata": {},
   "outputs": [
    {
     "name": "stdout",
     "output_type": "stream",
     "text": [
      "[[ 102.]\n",
      " [  66.]\n",
      " [  58.]]\n",
      "[[ 114.]\n",
      " [  78.]\n",
      " [  70.]]\n"
     ]
    }
   ],
   "source": [
    "m_array = np.array([[1.,3.,5,7,9],\n",
    "                  [-2,0,2.,4,6],\n",
    "                  [-6,-3.,0,3.,6]])\n",
    "#大规模炮制数据的神器（？）\n",
    "m_vals = np.array([m_array,m_array+1])\n",
    "m_data = tf.placeholder(tf.float32,shape=(3,5))\n",
    "#记住5x1的matrix的生成方法……特别容易出错\n",
    "m1 = tf.constant([[1.],[0.],[-1.],[2.],[4.]])\n",
    "#即使是1x1的matrix也必须多套一个[]，否则就会报错（手动颤抖）\n",
    "m2 = tf.constant([[2.]])\n",
    "a1 = tf.constant([[10.]])\n",
    "prod1 = tf.matmul(m_data, m1)\n",
    "prod2 = tf.matmul(prod1, m2)\n",
    "add1 = tf.add(prod2,a1)\n",
    "for m_val in m_vals:\n",
    "    print(sess.run(add1,feed_dict={m_data: m_val}))"
   ]
  },
  {
   "cell_type": "markdown",
   "metadata": {},
   "source": [
    "老生常谈的玩意：因为代入的数据常常不清楚有多少，所以在不确定数据维度的时候可以选择None来回避：\n",
    "x_data = tf.placeholder(tf.float32,shape=(3,None))"
   ]
  },
  {
   "cell_type": "markdown",
   "metadata": {},
   "source": [
    "# 重要：Conv的设定"
   ]
  },
  {
   "cell_type": "code",
   "execution_count": 11,
   "metadata": {},
   "outputs": [
    {
     "name": "stdout",
     "output_type": "stream",
     "text": [
      "[[[[ 0.73275633]\n",
      "   [ 0.38459103]\n",
      "   [ 0.35830041]\n",
      "   [ 0.7967698 ]]\n",
      "\n",
      "  [[ 0.55505898]\n",
      "   [ 0.99405449]\n",
      "   [ 0.01905422]\n",
      "   [ 0.06256348]]\n",
      "\n",
      "  [[ 0.13575435]\n",
      "   [ 0.95014805]\n",
      "   [ 0.76768908]\n",
      "   [ 0.02366838]]\n",
      "\n",
      "  [[ 0.6164494 ]\n",
      "   [ 0.53863786]\n",
      "   [ 0.73998871]\n",
      "   [ 0.19598286]]]]\n"
     ]
    }
   ],
   "source": [
    "#Basic graph shape: Number,Height,Width,Channel\n",
    "#这是default的NHWC format，还有另外一种叫做NCHW，对应着[Number,Channel,Height,\n",
    "#Weight]\n",
    "#在设定conv2d的时候会有data_format参数可以改变，默认是NHWC，为了不多事还是别改了，改\n",
    "#了之后所有的参数都要做相应的修改\n",
    "x_shape = [1,4,4,1]\n",
    "x_val = np.random.uniform(size=x_shape)\n",
    "print(x_val)"
   ]
  },
  {
   "cell_type": "code",
   "execution_count": 12,
   "metadata": {
    "collapsed": true
   },
   "outputs": [],
   "source": [
    "x_data = tf.placeholder(tf.float32,shape=x_shape)"
   ]
  },
  {
   "cell_type": "code",
   "execution_count": 14,
   "metadata": {
    "collapsed": true
   },
   "outputs": [],
   "source": [
    "#定义conv\n",
    "#filter的shape是[filter_height,filter_width,in_channels,out_channels]\n",
    "#设定成0.25的原因是这样取四个数才是average\n",
    "my_filter = tf.constant(0.25,shape=[2,2,1,1])\n",
    "#strides在最一般的情况下是[1,stride,stride,1]\n",
    "my_strides = [1,2,2,1]\n",
    "#conv2d的参数：\n",
    "#[input,filter,strides,padding,use_cudnn_on_gpu=None,data_format=None,\n",
    "#name=None]\n",
    "#padding选项选择的是padding的算法，有SAME和VALID两种\n",
    "#data_format就如同上面的cell中注释所写，还是老老实实别改了\n",
    "#output size公式：(W-F+2P)/S+1--->W:input size,F:filter size,P:padding,\n",
    "#S:stride\n",
    "#注意此时的返回值依然是[1,2,2,1]的<可参见下面的cell之一>，因为Number／Batch和Channel这两个dimension\n",
    "#不会自动去掉\n",
    "mov_avg_layer = tf.nn.conv2d(x_data, my_filter, my_strides,\n",
    "                            padding = \"SAME\", name=\"Moving_Avg_Window\")"
   ]
  },
  {
   "cell_type": "code",
   "execution_count": 23,
   "metadata": {
    "collapsed": true
   },
   "outputs": [],
   "source": [
    "#squeeze的作用：removes dimensions of size 1 from the shape of a tensor\n",
    "#e.g.[1,2,2,1]的话squeeze之后就只剩下[2,2]了\n",
    "#squeeze的参数：[input,axis=None,name=None]\n",
    "#axis默认是[int],指定要删去的dimension，没有被指定的会留在原处\n",
    "#e.g. [1,2,3,2,1,1]的input-->tf.squeeze(input,[0,])的话就只会删去第一个变成\n",
    "#[2,3,2,1,1]\n",
    "def custom_layer(input_matrix):\n",
    "    input_matrix_squeezed = tf.squeeze(input_matrix)\n",
    "    A = tf.constant([[1.,2.],[-1.,3.]])\n",
    "    b = tf.constant(1.,shape=[2,2])\n",
    "    temp1 = tf.matmul(A,input_matrix_squeezed)\n",
    "    temp2 = tf.add(temp1, b)\n",
    "    return tf.sigmoid(temp2)"
   ]
  },
  {
   "cell_type": "code",
   "execution_count": 24,
   "metadata": {},
   "outputs": [],
   "source": [
    "with tf.name_scope('Custom_Layer') as scope:\n",
    "    custom_layer1 = custom_layer(mov_avg_layer)"
   ]
  },
  {
   "cell_type": "code",
   "execution_count": 25,
   "metadata": {},
   "outputs": [
    {
     "name": "stdout",
     "output_type": "stream",
     "text": [
      "[[ 0.94197524  0.89778358]\n",
      " [ 0.88227242  0.87935382]]\n"
     ]
    }
   ],
   "source": [
    "print(sess.run(custom_layer1,feed_dict={x_data:x_val}))"
   ]
  },
  {
   "cell_type": "code",
   "execution_count": 26,
   "metadata": {},
   "outputs": [
    {
     "name": "stdout",
     "output_type": "stream",
     "text": [
      "[[[[ 0.66661525]\n",
      "   [ 0.30917197]]\n",
      "\n",
      "  [[ 0.56024742]\n",
      "   [ 0.43183225]]]]\n"
     ]
    }
   ],
   "source": [
    "#conv layer之后会有多余的dimension需要用squeeze去掉\n",
    "print(sess.run(mov_avg_layer,feed_dict={x_data:x_val}))"
   ]
  },
  {
   "cell_type": "markdown",
   "metadata": {},
   "source": [
    "##### 姑且conv会用的，但是原理上感觉稍微有点模糊\n",
    "\n",
    "残留的【问题】：\n",
    "* tf.name_scope\n",
    "* tensorboard"
   ]
  },
  {
   "cell_type": "markdown",
   "metadata": {},
   "source": [
    "# Loss Function\n",
    "\n",
    "## Regression Loss Function"
   ]
  },
  {
   "cell_type": "code",
   "execution_count": 28,
   "metadata": {
    "collapsed": true
   },
   "outputs": [],
   "source": [
    "import matplotlib.pyplot as plt\n",
    "%matplotlib inline"
   ]
  },
  {
   "cell_type": "code",
   "execution_count": 29,
   "metadata": {
    "collapsed": true
   },
   "outputs": [],
   "source": [
    "x_vals = tf.linspace(-1.,1.,500)\n",
    "target = tf.constant(0.)"
   ]
  },
  {
   "cell_type": "code",
   "execution_count": 52,
   "metadata": {},
   "outputs": [
    {
     "name": "stdout",
     "output_type": "stream",
     "text": [
      "167.335\n",
      "------------------\n",
      "83.6673\n"
     ]
    }
   ],
   "source": [
    "#L2 norm loss\n",
    "#仅仅像下面那么算得出来的是element-wise的结果\n",
    "l2_y_vals = tf.square(target - x_vals)\n",
    "l2_y_out = sess.run(l2_y_vals)\n",
    "#再加一个reduce_sum可以解决这个问题\n",
    "l2_result = tf.reduce_sum(l2_y_vals)\n",
    "print(sess.run(l2_result))\n",
    "#tf内置的tf.nn.l2_loss会特别处以2（印象中是为了方便进行运算）\n",
    "print(\"------------------\")\n",
    "print(sess.run(tf.nn.l2_loss(target-x_vals)))"
   ]
  },
  {
   "cell_type": "code",
   "execution_count": 53,
   "metadata": {},
   "outputs": [
    {
     "name": "stdout",
     "output_type": "stream",
     "text": [
      "6.0\n",
      "[ 3.  3.]\n",
      "[[ 3.]\n",
      " [ 3.]]\n",
      "[ 2.  2.  2.]\n",
      "[[ 2.  2.  2.]]\n",
      "6.0\n",
      "[[ 6.]]\n"
     ]
    }
   ],
   "source": [
    "#特别插入：reduce_sum的使用方法：\n",
    "#reduce_sum参数：\n",
    "#[input_tensor,axis=None,keep_dims=False,name=None]\n",
    "x = [[1.,1.,1.],[1.,1.,1.]]\n",
    "print(sess.run(tf.reduce_sum(x)))\n",
    "print(sess.run(tf.reduce_sum(x,1)))\n",
    "print(sess.run(tf.reduce_sum(x,1,keep_dims=True)))\n",
    "print(sess.run(tf.reduce_sum(x,0)))\n",
    "print(sess.run(tf.reduce_sum(x,0,keep_dims=True)))\n",
    "print(sess.run(tf.reduce_sum(x,[0,1])))\n",
    "print(sess.run(tf.reduce_sum(x,[0,1],keep_dims=True)))\n",
    "#reduce的意思应该是reduce dimension，即抹掉其中一个dimension，keep_dim则会保留\n",
    "#那个／那些被选中的dimension"
   ]
  },
  {
   "cell_type": "code",
   "execution_count": 54,
   "metadata": {},
   "outputs": [
    {
     "name": "stdout",
     "output_type": "stream",
     "text": [
      "250.501\n"
     ]
    }
   ],
   "source": [
    "#L1 norm loss\n",
    "#compared with L2 norm loss:针对Outliers的效果更好，但是在target周围不够smooth，\n",
    "#可能converge的效果不会很好\n",
    "l1_y_vals = tf.abs(target - x_vals)\n",
    "l1_y_out = sess.run(l1_y_vals)\n",
    "l1_result = tf.reduce_sum(l1_y_vals)\n",
    "print(sess.run(l1_result))"
   ]
  },
  {
   "cell_type": "code",
   "execution_count": 59,
   "metadata": {
    "collapsed": true
   },
   "outputs": [],
   "source": [
    "#Pseudo-Huber loss\n",
    "#take the best of both L1 norm loss and L2 norm loss\n",
    "#在target周围keep convex，通过delta来调节面对outliers时候突然变steep的问题\n",
    "delta1 = tf.constant(0.25)\n",
    "phuber1_y_vals = tf.multiply(tf.square(delta1),\n",
    "                             tf.sqrt(1. + tf.square((target - x_vals)/delta1)) -1.)\n",
    "phuber1_y_out = sess.run(phuber1_y_vals)\n",
    "delta2 = tf.constant(5.)\n",
    "phuber2_y_vals = tf.multiply(tf.square(delta2),\n",
    "                             tf.sqrt(1. + tf.square((target - x_vals)/delta2) -1.))\n",
    "phuber2_y_out = sess.run(phuber2_y_vals)"
   ]
  },
  {
   "cell_type": "code",
   "execution_count": 62,
   "metadata": {},
   "outputs": [
    {
     "data": {
      "image/png": "[encoded data removed]",
      "text/plain": [
       "<matplotlib.figure.Figure at 0x11b4e9b38>"
      ]
     },
     "metadata": {},
     "output_type": "display_data"
    }
   ],
   "source": [
    "#Draw the picture for above 4 regression loss function\n",
    "x_array = sess.run(x_vals)\n",
    "plt.plot(x_array, l2_y_out, 'b-', label = 'L2 Loss')\n",
    "plt.plot(x_array, l1_y_out, 'r--', label = 'L1 Loss')\n",
    "plt.plot(x_array, phuber1_y_out, 'k-.', label = 'P-Huber Loss (0.25)')\n",
    "plt.plot(x_array, phuber2_y_out, 'g:', label = 'P-Huber Loss (5.0)')\n",
    "plt.ylim(-0.2, 0.4)\n",
    "plt.legend(loc= 'lower right', prop={'size': 11})\n",
    "plt.show()"
   ]
  },
  {
   "cell_type": "markdown",
   "metadata": {},
   "source": [
    "【问题】：Pseudo Huber loss function最好找个文章或者论文来看一下"
   ]
  },
  {
   "cell_type": "markdown",
   "metadata": {},
   "source": [
    "### Classification Loss Function"
   ]
  },
  {
   "cell_type": "code",
   "execution_count": 71,
   "metadata": {},
   "outputs": [],
   "source": [
    "x_vals = tf.linspace(-3.,5.,500)\n",
    "target = tf.constant(1.)\n",
    "targets = tf.fill([500,], 1.)"
   ]
  },
  {
   "cell_type": "code",
   "execution_count": 72,
   "metadata": {
    "collapsed": true
   },
   "outputs": [],
   "source": [
    "#Hinge loss function\n",
    "#常用于SVM，当然DP里面也能用就是了\n",
    "#数学表示： max(0.,+-1 - target * y)\n",
    "#直观来看：不关心已经判断正确的数据，只计算判断错误的数据的loss\n",
    "hinge_y_vals = tf.maximum(0., 1. - tf.multiply(target, x_vals))\n",
    "hinge_y_out = sess.run(hinge_y_vals)"
   ]
  },
  {
   "cell_type": "code",
   "execution_count": 73,
   "metadata": {
    "collapsed": true
   },
   "outputs": [],
   "source": [
    "#Classification中最重要的loss function之一\n",
    "#Cross-entropy loss／logistic loss function\n",
    "#用于binary classification\n",
    "xentropy_y_vals = - tf.multiply(target, \n",
    "                                tf.log(x_vals))- tf.multiply(1. - target,\n",
    "                                                            tf.log(1. - x_vals))\n",
    "xentropy_y_out = sess.run(xentropy_y_vals)"
   ]
  },
  {
   "cell_type": "code",
   "execution_count": 76,
   "metadata": {},
   "outputs": [],
   "source": [
    "#Sigmoid cross entropy loss function\n",
    "#transform the x_values by sigmoid before cross entropy loss function\n",
    "xentropy_sigmoid_y_vals = tf.nn.sigmoid_cross_entropy_with_logits(logits = x_vals, labels = targets)\n",
    "xentropy_sigmoid_y_out = sess.run(xentropy_sigmoid_y_vals)"
   ]
  },
  {
   "cell_type": "code",
   "execution_count": 77,
   "metadata": {
    "collapsed": true
   },
   "outputs": [],
   "source": [
    "#Weighted Loss entropy loss function\n",
    "weight = tf.constant(0.5)\n",
    "xentropy_weighted_y_vals = tf.nn.weighted_cross_entropy_with_logits(x_vals,\n",
    "                                                                   targets,\n",
    "                                                                   weight)\n",
    "xentropy_weighted_y_out = sess.run(xentropy_weighted_y_vals)"
   ]
  },
  {
   "cell_type": "code",
   "execution_count": null,
   "metadata": {
    "collapsed": true
   },
   "outputs": [],
   "source": []
  },
  {
   "cell_type": "code",
   "execution_count": null,
   "metadata": {},
   "outputs": [],
   "source": []
  },
  {
   "cell_type": "markdown",
   "metadata": {},
   "source": [
    "P.38~P.40"
   ]
  },
  {
   "cell_type": "markdown",
   "metadata": {},
   "source": [
    "# Back Propagation\n",
    "\n",
    "initialize_all_variables()已经失效，现在用的是global_variable_initializer"
   ]
  },
  {
   "cell_type": "code",
   "execution_count": 122,
   "metadata": {
    "collapsed": true
   },
   "outputs": [],
   "source": [
    "x_vals = np.random.normal(1, 0.1, 100)\n",
    "y_vals = np.repeat(10.,100)\n",
    "x_data = tf.placeholder(tf.float32,shape=[1])\n",
    "y_target = tf.placeholder(tf.float32,shape=[1])\n",
    "#下面初始化A使用的是比较常见的初始化方法：random_variable\n",
    "A = tf.Variable(tf.random_normal(shape=[1]))"
   ]
  },
  {
   "cell_type": "code",
   "execution_count": 123,
   "metadata": {
    "collapsed": true
   },
   "outputs": [],
   "source": [
    "my_output = tf.multiply(x_data, A)"
   ]
  },
  {
   "cell_type": "code",
   "execution_count": 124,
   "metadata": {
    "collapsed": true
   },
   "outputs": [],
   "source": [
    "loss = tf.square(my_output - y_target)"
   ]
  },
  {
   "cell_type": "code",
   "execution_count": 125,
   "metadata": {},
   "outputs": [],
   "source": [
    "init = tf.global_variables_initializer()\n",
    "sess.run(init)"
   ]
  },
  {
   "cell_type": "code",
   "execution_count": 126,
   "metadata": {
    "collapsed": true
   },
   "outputs": [],
   "source": [
    "my_opt = tf.train.GradientDescentOptimizer(learning_rate=0.02)\n",
    "train_step = my_opt.minimize(loss)"
   ]
  },
  {
   "cell_type": "code",
   "execution_count": 127,
   "metadata": {},
   "outputs": [
    {
     "name": "stdout",
     "output_type": "stream",
     "text": [
      "Step #25 A = [ 6.18958759]\n",
      "Loss = [ 6.2951808]\n",
      "Step #50 A = [ 8.46996117]\n",
      "Loss = [ 0.23582634]\n",
      "Step #75 A = [ 9.45027733]\n",
      "Loss = [ 2.85112381]\n",
      "Step #100 A = [ 9.57971859]\n",
      "Loss = [ 1.46219897]\n"
     ]
    }
   ],
   "source": [
    "#np.random.choice是一个很好的用来生成random index的方法\n",
    "for i in range(100):\n",
    "    rand_index = np.random.choice(100)\n",
    "    rand_x = [x_vals[rand_index]]\n",
    "    rand_y = [y_vals[rand_index]]\n",
    "    sess.run(train_step, feed_dict={x_data:rand_x,y_target:rand_y})\n",
    "    if (i+1)%25 == 0:\n",
    "        print(\"Step #\" + str(i+1) + \" A = \" + str(sess.run(A)))\n",
    "        print(\"Loss = \" + str(sess.run(loss, \n",
    "                                       feed_dict={x_data:rand_x,y_target:rand_y})))\n",
    "        "
   ]
  },
  {
   "cell_type": "markdown",
   "metadata": {},
   "source": [
    "【问题】：tensorflow.python.framework.ops\n",
    "\n",
    "【问题】：.reset_default_graph()"
   ]
  },
  {
   "cell_type": "code",
   "execution_count": 153,
   "metadata": {
    "collapsed": true
   },
   "outputs": [],
   "source": [
    "from tensorflow.python.framework import ops\n",
    "ops.reset_default_graph()\n",
    "sess = tf.Session()"
   ]
  },
  {
   "cell_type": "code",
   "execution_count": 154,
   "metadata": {},
   "outputs": [],
   "source": [
    "#np.concatenate((a1,a2,...),axis = 0) axis=0是指的纵轴\n",
    "x_vals = np.concatenate((np.random.normal(-1,1,50), np.random.normal(3,1,50)))\n",
    "y_vals = np.concatenate((np.repeat(0.,50), np.repeat(1.,50)))\n",
    "x_data = tf.placeholder(tf.float32,shape = [1])\n",
    "y_target = tf.placeholder(tf.float32,shape= [1])\n",
    "A = tf.Variable(tf.random_normal(mean=10, shape=[1]))"
   ]
  },
  {
   "cell_type": "code",
   "execution_count": 155,
   "metadata": {
    "collapsed": true
   },
   "outputs": [],
   "source": [
    "my_output = tf.add(x_data, A)"
   ]
  },
  {
   "cell_type": "code",
   "execution_count": 156,
   "metadata": {
    "collapsed": true
   },
   "outputs": [],
   "source": [
    "#tf.expand_dims()\n",
    "my_output_expanded = tf.expand_dims(my_output, 0)\n",
    "y_target_expanded = tf.expand_dims(y_target, 0)"
   ]
  },
  {
   "cell_type": "code",
   "execution_count": 157,
   "metadata": {
    "collapsed": true
   },
   "outputs": [],
   "source": [
    "init = tf.global_variables_initializer()\n",
    "sess.run(init)"
   ]
  },
  {
   "cell_type": "code",
   "execution_count": 158,
   "metadata": {},
   "outputs": [],
   "source": [
    "xentropy = tf.nn.sigmoid_cross_entropy_with_logits(logits = my_output_expanded,\n",
    "                                                  labels = y_target_expanded)"
   ]
  },
  {
   "cell_type": "code",
   "execution_count": 159,
   "metadata": {
    "collapsed": true
   },
   "outputs": [],
   "source": [
    "my_opt = tf.train.GradientDescentOptimizer(0.05)\n",
    "train_step = my_opt.minimize(xentropy)"
   ]
  },
  {
   "cell_type": "code",
   "execution_count": 160,
   "metadata": {},
   "outputs": [
    {
     "name": "stdout",
     "output_type": "stream",
     "text": [
      "Step #200 A = [ 5.16828871]\n",
      "Loss = [[ 0.00027306]]\n",
      "Step #400 A = [ 1.14451063]\n",
      "Loss = [[ 0.00916713]]\n",
      "Step #600 A = [-0.40367213]\n",
      "Loss = [[ 0.03889571]]\n",
      "Step #800 A = [-1.12536645]\n",
      "Loss = [[ 0.03341172]]\n",
      "Step #1000 A = [-1.1559335]\n",
      "Loss = [[ 0.31781512]]\n",
      "Step #1200 A = [-1.13508964]\n",
      "Loss = [[ 0.45462969]]\n",
      "Step #1400 A = [-1.12788677]\n",
      "Loss = [[ 0.04701942]]\n"
     ]
    }
   ],
   "source": [
    "for i in range(1400):\n",
    "    rand_index = np.random.choice(100)\n",
    "    rand_x = [x_vals[rand_index]]\n",
    "    rand_y = [y_vals[rand_index]]\n",
    "    \n",
    "    sess.run(train_step, feed_dict={x_data: rand_x, y_target: rand_y})\n",
    "    if (i+1)%200 == 0:\n",
    "        print('Step #' + str(i+1) + ' A = ' + str(sess.run(A)))\n",
    "        print('Loss = ' + str(sess.run(xentropy, \n",
    "                                       feed_dict={x_data:rand_x,\n",
    "                                                 y_target:rand_y})))"
   ]
  },
  {
   "cell_type": "code",
   "execution_count": null,
   "metadata": {
    "collapsed": true
   },
   "outputs": [],
   "source": []
  }
 ],
 "metadata": {
  "kernelspec": {
   "display_name": "Python 3",
   "language": "python",
   "name": "python3"
  },
  "language_info": {
   "codemirror_mode": {
    "name": "ipython",
    "version": 3
   },
   "file_extension": ".py",
   "mimetype": "text/x-python",
   "name": "python",
   "nbconvert_exporter": "python",
   "pygments_lexer": "ipython3",
   "version": "3.6.1"
  }
 },
 "nbformat": 4,
 "nbformat_minor": 2
}
